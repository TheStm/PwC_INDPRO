{
 "cells": [
  {
   "cell_type": "code",
   "execution_count": 1,
   "metadata": {
    "pycharm": {
     "name": "#%%\n"
    }
   },
   "outputs": [],
   "source": [
    "# sklearn package\n",
    "from sklearn.preprocessing import PolynomialFeatures\n",
    "from sklearn.linear_model import LinearRegression\n",
    "from sklearn.metrics import mean_squared_error\n",
    "from sklearn.model_selection import train_test_split\n",
    "# dataframes\n",
    "import pandas as pd\n",
    "# computation\n",
    "import numpy as np\n",
    "# visualization\n",
    "import matplotlib.pyplot as plt"
   ]
  },
  {
   "cell_type": "code",
   "execution_count": 2,
   "metadata": {
    "pycharm": {
     "name": "#%%\n"
    }
   },
   "outputs": [
    {
     "name": "stdout",
     "output_type": "stream",
     "text": [
      "            y     x1    x2       x3    x4      x5\n",
      "174  100.1399  3.107  4.60  3028.85  16.8  222653\n",
      "45   102.8157  1.470  3.02  2301.62  30.7  242766\n",
      "55   103.4340  1.965  3.07  2334.96  30.1  230725\n",
      "118   98.1990  2.669  3.08  2442.58   9.0  147645\n",
      "5    103.9464  4.049  3.25  1824.05  11.7  394222\n",
      "198   98.7884  2.042  5.20  2912.05  18.3  269575\n",
      "182  102.0279  2.111  4.79  3670.79  16.9  254096\n",
      "179  102.3074  2.275  4.53  3812.55  24.3  243352\n",
      "192   99.0974  1.563  4.69  2931.50  19.0  275030\n",
      "67   100.0545  1.621  2.94  2253.96  35.3  215414\n",
      "237   91.3384  1.006  5.02  1176.51  12.4  150731\n",
      "257   89.8626  0.729  5.67  1438.14   2.0  127457\n",
      "189  100.6919  1.612  4.82  3347.75  20.7  271595\n",
      "135   95.1263  2.801  3.65  2813.35   8.9  139144\n",
      "43   102.3826  2.006  2.94  2333.11  31.0  243817\n"
     ]
    }
   ],
   "source": [
    "df = pd.read_csv('case.csv')\n",
    "pr = pd.read_csv('case.csv', nrows=1)\n",
    "pr = pr[['x1','x2','x3','x4','x5']].dropna()\n",
    "df = df[['y','x1','x2','x3','x4','x5']].dropna()\n",
    "\n",
    "print(df.sample(n=15))"
   ]
  },
  {
   "cell_type": "code",
   "execution_count": 3,
   "metadata": {
    "pycharm": {
     "name": "#%%\n"
    }
   },
   "outputs": [
    {
     "name": "stdout",
     "output_type": "stream",
     "text": [
      "[2.83700e+00 4.04000e+00 1.46259e+03 4.40000e+00 4.05948e+05] 104.7474\n"
     ]
    }
   ],
   "source": [
    "x_values = df[['x1','x2','x3','x4','x5']].values\n",
    "y_values = df['y'].values\n",
    "x_train, x_test, y_train, y_test = train_test_split(\n",
    "    x_values, y_values, test_size=0.3, random_state=1)\n",
    "print(x_values[0], y_values[0])"
   ]
  },
  {
   "cell_type": "code",
   "execution_count": 4,
   "metadata": {
    "pycharm": {
     "name": "#%%\n"
    }
   },
   "outputs": [
    {
     "data": {
      "text/html": [
       "<table class=\"simpletable\">\n",
       "<caption>OLS Regression Results</caption>\n",
       "<tr>\n",
       "  <th>Dep. Variable:</th>            <td>y</td>        <th>  R-squared:         </th> <td>   0.673</td>\n",
       "</tr>\n",
       "<tr>\n",
       "  <th>Model:</th>                   <td>OLS</td>       <th>  Adj. R-squared:    </th> <td>   0.664</td>\n",
       "</tr>\n",
       "<tr>\n",
       "  <th>Method:</th>             <td>Least Squares</td>  <th>  F-statistic:       </th> <td>   76.16</td>\n",
       "</tr>\n",
       "<tr>\n",
       "  <th>Date:</th>             <td>Mon, 16 Jan 2023</td> <th>  Prob (F-statistic):</th> <td>4.68e-43</td>\n",
       "</tr>\n",
       "<tr>\n",
       "  <th>Time:</th>                 <td>16:54:23</td>     <th>  Log-Likelihood:    </th> <td> -475.73</td>\n",
       "</tr>\n",
       "<tr>\n",
       "  <th>No. Observations:</th>      <td>   191</td>      <th>  AIC:               </th> <td>   963.5</td>\n",
       "</tr>\n",
       "<tr>\n",
       "  <th>Df Residuals:</th>          <td>   185</td>      <th>  BIC:               </th> <td>   983.0</td>\n",
       "</tr>\n",
       "<tr>\n",
       "  <th>Df Model:</th>              <td>     5</td>      <th>                     </th>     <td> </td>   \n",
       "</tr>\n",
       "<tr>\n",
       "  <th>Covariance Type:</th>      <td>nonrobust</td>    <th>                     </th>     <td> </td>   \n",
       "</tr>\n",
       "</table>\n",
       "<table class=\"simpletable\">\n",
       "<tr>\n",
       "    <td></td>       <th>coef</th>     <th>std err</th>      <th>t</th>      <th>P>|t|</th>  <th>[0.025</th>    <th>0.975]</th>  \n",
       "</tr>\n",
       "<tr>\n",
       "  <th>const</th> <td>   85.9284</td> <td>    1.600</td> <td>   53.722</td> <td> 0.000</td> <td>   82.773</td> <td>   89.084</td>\n",
       "</tr>\n",
       "<tr>\n",
       "  <th>x1</th>    <td>    0.8422</td> <td>    0.428</td> <td>    1.967</td> <td> 0.051</td> <td>   -0.003</td> <td>    1.687</td>\n",
       "</tr>\n",
       "<tr>\n",
       "  <th>x2</th>    <td>   -1.0539</td> <td>    0.218</td> <td>   -4.824</td> <td> 0.000</td> <td>   -1.485</td> <td>   -0.623</td>\n",
       "</tr>\n",
       "<tr>\n",
       "  <th>x3</th>    <td>    0.0027</td> <td>    0.001</td> <td>    5.019</td> <td> 0.000</td> <td>    0.002</td> <td>    0.004</td>\n",
       "</tr>\n",
       "<tr>\n",
       "  <th>x4</th>    <td>    0.1242</td> <td>    0.020</td> <td>    6.097</td> <td> 0.000</td> <td>    0.084</td> <td>    0.164</td>\n",
       "</tr>\n",
       "<tr>\n",
       "  <th>x5</th>    <td> 2.598e-05</td> <td> 4.34e-06</td> <td>    5.982</td> <td> 0.000</td> <td> 1.74e-05</td> <td> 3.45e-05</td>\n",
       "</tr>\n",
       "</table>\n",
       "<table class=\"simpletable\">\n",
       "<tr>\n",
       "  <th>Omnibus:</th>       <td>32.240</td> <th>  Durbin-Watson:     </th> <td>   2.029</td>\n",
       "</tr>\n",
       "<tr>\n",
       "  <th>Prob(Omnibus):</th> <td> 0.000</td> <th>  Jarque-Bera (JB):  </th> <td>  48.229</td>\n",
       "</tr>\n",
       "<tr>\n",
       "  <th>Skew:</th>          <td>-0.944</td> <th>  Prob(JB):          </th> <td>3.37e-11</td>\n",
       "</tr>\n",
       "<tr>\n",
       "  <th>Kurtosis:</th>      <td> 4.580</td> <th>  Cond. No.          </th> <td>1.56e+06</td>\n",
       "</tr>\n",
       "</table><br/><br/>Notes:<br/>[1] Standard Errors assume that the covariance matrix of the errors is correctly specified.<br/>[2] The condition number is large, 1.56e+06. This might indicate that there are<br/>strong multicollinearity or other numerical problems."
      ],
      "text/plain": [
       "<class 'statsmodels.iolib.summary.Summary'>\n",
       "\"\"\"\n",
       "                            OLS Regression Results                            \n",
       "==============================================================================\n",
       "Dep. Variable:                      y   R-squared:                       0.673\n",
       "Model:                            OLS   Adj. R-squared:                  0.664\n",
       "Method:                 Least Squares   F-statistic:                     76.16\n",
       "Date:                Mon, 16 Jan 2023   Prob (F-statistic):           4.68e-43\n",
       "Time:                        16:54:23   Log-Likelihood:                -475.73\n",
       "No. Observations:                 191   AIC:                             963.5\n",
       "Df Residuals:                     185   BIC:                             983.0\n",
       "Df Model:                           5                                         \n",
       "Covariance Type:            nonrobust                                         \n",
       "==============================================================================\n",
       "                 coef    std err          t      P>|t|      [0.025      0.975]\n",
       "------------------------------------------------------------------------------\n",
       "const         85.9284      1.600     53.722      0.000      82.773      89.084\n",
       "x1             0.8422      0.428      1.967      0.051      -0.003       1.687\n",
       "x2            -1.0539      0.218     -4.824      0.000      -1.485      -0.623\n",
       "x3             0.0027      0.001      5.019      0.000       0.002       0.004\n",
       "x4             0.1242      0.020      6.097      0.000       0.084       0.164\n",
       "x5          2.598e-05   4.34e-06      5.982      0.000    1.74e-05    3.45e-05\n",
       "==============================================================================\n",
       "Omnibus:                       32.240   Durbin-Watson:                   2.029\n",
       "Prob(Omnibus):                  0.000   Jarque-Bera (JB):               48.229\n",
       "Skew:                          -0.944   Prob(JB):                     3.37e-11\n",
       "Kurtosis:                       4.580   Cond. No.                     1.56e+06\n",
       "==============================================================================\n",
       "\n",
       "Notes:\n",
       "[1] Standard Errors assume that the covariance matrix of the errors is correctly specified.\n",
       "[2] The condition number is large, 1.56e+06. This might indicate that there are\n",
       "strong multicollinearity or other numerical problems.\n",
       "\"\"\""
      ]
     },
     "execution_count": 4,
     "metadata": {},
     "output_type": "execute_result"
    }
   ],
   "source": [
    "import statsmodels.api as sm\n",
    "X_train_lm = sm.add_constant(x_train)\n",
    "\n",
    "lr_1 = sm.OLS(y_train, X_train_lm).fit()\n",
    "\n",
    "lr_1.summary()"
   ]
  },
  {
   "cell_type": "code",
   "execution_count": 5,
   "metadata": {
    "pycharm": {
     "name": "#%%\n"
    }
   },
   "outputs": [],
   "source": [
    "df = pd.read_csv('case.csv')\n",
    "df = df.drop('x1', axis=1)\n",
    "pr = pd.read_csv('case.csv', nrows=1)\n",
    "pr = pr.drop('x1', axis=1)\n",
    "pr = pr[['x2','x3','x4','x5']].dropna()\n",
    "df = df[['y','x2','x3','x4','x5']].dropna()"
   ]
  },
  {
   "cell_type": "code",
   "execution_count": 6,
   "metadata": {
    "pycharm": {
     "name": "#%%\n"
    }
   },
   "outputs": [
    {
     "name": "stdout",
     "output_type": "stream",
     "text": [
      "[4.04000e+00 1.46259e+03 4.40000e+00 4.05948e+05] 104.7474\n"
     ]
    }
   ],
   "source": [
    "x_values = df[['x2','x3','x4','x5']].values\n",
    "y_values = df['y'].values\n",
    "x_train, x_test, y_train, y_test = train_test_split(\n",
    "    x_values, y_values, test_size=0.3, random_state=100)\n",
    "print(x_values[0], y_values[0])"
   ]
  },
  {
   "cell_type": "code",
   "execution_count": 7,
   "metadata": {
    "pycharm": {
     "name": "#%%\n"
    }
   },
   "outputs": [
    {
     "data": {
      "text/plain": [
       "[<matplotlib.lines.Line2D at 0x7fd12da6ab80>]"
      ]
     },
     "execution_count": 7,
     "metadata": {},
     "output_type": "execute_result"
    },
    {
     "data": {
      "image/png": "[encoded data removed]",
      "text/plain": [
       "<Figure size 640x480 with 1 Axes>"
      ]
     },
     "metadata": {},
     "output_type": "display_data"
    }
   ],
   "source": [
    "number_degrees = [1, 2, 3, 4, 5, 6, 7]\n",
    "plt_mean_squared_error = []\n",
    "for degree in number_degrees:\n",
    "    poly_model = PolynomialFeatures(degree=degree)\n",
    "    poly_x_values = poly_model.fit_transform(x_train)\n",
    "    poly_model.fit(poly_x_values, y_train)\n",
    "    regression_model = LinearRegression()\n",
    "    regression_model.fit(poly_x_values, y_train)\n",
    "    poly_x_pred_values = poly_model.fit_transform(x_test)\n",
    "    y_pred = regression_model.predict(poly_x_pred_values)\n",
    "    plt_mean_squared_error.append(mean_squared_error(y_test, y_pred, squared=False))\n",
    "plt.scatter(number_degrees,plt_mean_squared_error, color=\"green\")\n",
    "plt.plot(number_degrees,plt_mean_squared_error, color=\"red\")"
   ]
  },
  {
   "cell_type": "code",
   "execution_count": 8,
   "metadata": {
    "pycharm": {
     "name": "#%%\n"
    }
   },
   "outputs": [
    {
     "name": "stdout",
     "output_type": "stream",
     "text": [
      "[2.7672400710226093, 2.1850339777826466, 5.137856178811271, 4.900888802188419, 3.6028410543074347, 3.602914065774202, 5.4770344052782365]\n"
     ]
    }
   ],
   "source": [
    "print(plt_mean_squared_error)\n"
   ]
  },
  {
   "cell_type": "code",
   "execution_count": 9,
   "metadata": {
    "pycharm": {
     "name": "#%%\n"
    }
   },
   "outputs": [
    {
     "name": "stdout",
     "output_type": "stream",
     "text": [
      "Dla stopnia 2: [102.29782118]\n"
     ]
    }
   ],
   "source": [
    "\n",
    "deg = plt_mean_squared_error.index(min(plt_mean_squared_error)) +1\n",
    "poly_model = PolynomialFeatures(deg)\n",
    "poly_x_values = poly_model.fit_transform(x_values)\n",
    "poly_model.fit(poly_x_values, y_values)\n",
    "regression_model = LinearRegression()\n",
    "regression_model.fit(poly_x_values, y_values)\n",
    "poly_x_pred_values = poly_model.fit_transform(pr)\n",
    "y_pred = regression_model.predict(poly_x_pred_values)\n",
    "\n",
    "print(f\"Dla stopnia {deg}: {y_pred}\")"
   ]
  },
  {
   "cell_type": "markdown",
   "metadata": {
    "pycharm": {
     "name": "#%% md\n"
    }
   },
   "source": []
  }
 ],
 "metadata": {
  "kernelspec": {
   "display_name": "Python 3 (ipykernel)",
   "language": "python",
   "name": "python3"
  },
  "language_info": {
   "codemirror_mode": {
    "name": "ipython",
    "version": 3
   },
   "file_extension": ".py",
   "mimetype": "text/x-python",
   "name": "python",
   "nbconvert_exporter": "python",
   "pygments_lexer": "ipython3",
   "version": "3.9.7"
  }
 },
 "nbformat": 4,
 "nbformat_minor": 1
}